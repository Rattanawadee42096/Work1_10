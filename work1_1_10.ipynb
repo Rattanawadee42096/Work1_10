{
  "nbformat": 4,
  "nbformat_minor": 0,
  "metadata": {
    "colab": {
      "provenance": [],
      "authorship_tag": "ABX9TyPcRfk4lypOkr1YVv+eNqf7",
      "include_colab_link": true
    },
    "kernelspec": {
      "name": "python3",
      "display_name": "Python 3"
    },
    "language_info": {
      "name": "python"
    }
  },
  "cells": [
    {
      "cell_type": "markdown",
      "metadata": {
        "id": "view-in-github",
        "colab_type": "text"
      },
      "source": [
        "<a href=\"https://colab.research.google.com/github/Rattanawadee42096/Work1_10/blob/main/work1_1_10.ipynb\" target=\"_parent\"><img src=\"https://colab.research.google.com/assets/colab-badge.svg\" alt=\"Open In Colab\"/></a>"
      ]
    },
    {
      "cell_type": "code",
      "source": [
        "#Work1_1\n",
        "r = int(input(\"กรุณากรอกความยาวของรัศมี :\"))\n",
        "A = 3.14*r**2\n",
        "print (\"พื้นที่วงกลมมีค่าเท่ากับ \",A)"
      ],
      "metadata": {
        "colab": {
          "base_uri": "https://localhost:8080/"
        },
        "id": "5giCbw4-JVH8",
        "outputId": "2be1ceb1-9fd1-404b-a50b-a9ba96a27276"
      },
      "execution_count": null,
      "outputs": [
        {
          "output_type": "stream",
          "name": "stdout",
          "text": [
            "กรุณากรอกความยาวของรัศมี :5\n",
            "พื้นที่วงกลมมีค่าเท่ากับ  78.5\n"
          ]
        }
      ]
    },
    {
      "cell_type": "code",
      "source": [
        "#Work1_2\n",
        "\n",
        "h = int(input(\"กรุณากรอกความสูงของสี่เหลี่ยมคางหมู :\"))\n",
        "a = int(input(\"กรุณากรอกความยาวด้านคู่ขนานของสี่เหลี่ยมคางหมู :\"))\n",
        "a1 = int(input(\"กรุณากรอกความยาวด้านคู่ขนานของสี่เหลี่ยมคางหมู :\"))\n",
        "A = 1/2*(a+a1)*h\n",
        "print (\"พื้นที่สี่เหลี่ยมคางหมูมีค่าเท่ากับ \",A,\"หน่วย\")"
      ],
      "metadata": {
        "colab": {
          "base_uri": "https://localhost:8080/"
        },
        "id": "GX2Q2TqQJbak",
        "outputId": "39f7cd46-0e64-4715-93d3-10c678172dce"
      },
      "execution_count": null,
      "outputs": [
        {
          "output_type": "stream",
          "name": "stdout",
          "text": [
            "กรุณากรอกความสูงของสี่เหลี่ยมคางหมู :10\n",
            "กรุณากรอกความยาวด้านคู่ขนานของสี่เหลี่ยมคางหมู :5\n",
            "กรุณากรอกความยาวด้านคู่ขนานของสี่เหลี่ยมคางหมู :2\n",
            "พื้นที่สี่เหลี่ยมคางหมูมีค่าเท่ากับ  35.0 หน่วย\n"
          ]
        }
      ]
    },
    {
      "cell_type": "code",
      "source": [
        "#Work1_3\n",
        "\n",
        "h = int(input(\"กรุณากรอกความสูงของสามเหลี่ยม :\"))\n",
        "a = int(input(\"กรุณากรอกความยาวฐานของสามเหลี่ยม :\"))\n",
        "A = 1/2*a*h\n",
        "print (\"พื้นที่รูปสามเหลี่ยมเท่ากับ :\",A)"
      ],
      "metadata": {
        "colab": {
          "base_uri": "https://localhost:8080/"
        },
        "id": "P0TeytSqJ3bs",
        "outputId": "303a9595-0b00-46e1-e331-bb6701c511bd"
      },
      "execution_count": null,
      "outputs": [
        {
          "output_type": "stream",
          "name": "stdout",
          "text": [
            "กรุณากรอกความสูงของสามเหลี่ยม :19\n",
            "กรุณากรอกความยาวฐานของสามเหลี่ยม :21\n",
            "พื้นที่รูปสามเหลี่ยมเท่ากับ : 199.5\n"
          ]
        }
      ]
    },
    {
      "cell_type": "code",
      "source": [
        "#Work1_4\n",
        "\n",
        "h = int(input(\"กรุณากรอกความสูงของกรวย :\"))\n",
        "r = int(input(\"กรุณากรอกความยาวรัศมีของฐานกรวย :\"))\n",
        "A = 1/3*3.14*r*r*h\n",
        "print (\"ปริมาตรของรูปทรงกรวยเท่ากับ :\",A)"
      ],
      "metadata": {
        "colab": {
          "base_uri": "https://localhost:8080/"
        },
        "id": "F7xdg5izKrVk",
        "outputId": "bfb297aa-4a42-490a-854a-01303bea963c"
      },
      "execution_count": null,
      "outputs": [
        {
          "output_type": "stream",
          "name": "stdout",
          "text": [
            "กรุณากรอกความสูงของกรวย :15\n",
            "กรุณากรอกความยาวรัศมีของฐานกรวย :5\n",
            "ปริมาตรของรูปทรงกรวยเท่ากับ : 392.5\n"
          ]
        }
      ]
    },
    {
      "cell_type": "code",
      "source": [
        "#Work1_5\n",
        "\n",
        "Y = int(input(\"กรุณากรอกปีพ.ศ.เกิด :\"))\n",
        "A = 2564-Y\n",
        "print (\"age :\",A)"
      ],
      "metadata": {
        "colab": {
          "base_uri": "https://localhost:8080/"
        },
        "id": "hPTOUCG5LfVc",
        "outputId": "abe3b51a-de5b-4b74-8154-833178f98652"
      },
      "execution_count": null,
      "outputs": [
        {
          "output_type": "stream",
          "name": "stdout",
          "text": [
            "กรุณากรอกปีพ.ศ.เกิด :2550\n",
            "age : 14\n"
          ]
        }
      ]
    },
    {
      "cell_type": "code",
      "source": [
        "#Work1_6\n",
        "\n",
        "W = int(input(\"กรุณากรอกน้ำหนัก\"))\n",
        "h = int(input(\"กรุณากรอกส่วนสูง\"))\n",
        "MBI = W//(h*h/100/100)\n",
        "\n",
        "print (\"MBI =\", MBI)"
      ],
      "metadata": {
        "id": "tH4d9HzvMbaN",
        "colab": {
          "base_uri": "https://localhost:8080/"
        },
        "outputId": "805bbea0-8622-4095-91e2-a0881a3c5004"
      },
      "execution_count": null,
      "outputs": [
        {
          "output_type": "stream",
          "name": "stdout",
          "text": [
            "กรุณากรอกน้ำหนัก52\n",
            "กรุณากรอกส่วนสูง162\n",
            "MBI = 19.0\n"
          ]
        }
      ]
    },
    {
      "cell_type": "code",
      "source": [
        "#Work1_7\n",
        "C = int(input(\"กรุณากรอกอุณหภูมิc :\"))\n",
        "F = 1.8*C+32\n",
        "\n",
        "print (\"F =\", F ,\"°F\")"
      ],
      "metadata": {
        "colab": {
          "base_uri": "https://localhost:8080/"
        },
        "id": "_7qnNNbBCyQK",
        "outputId": "cdb19ab7-6e90-4848-c986-f10856549609"
      },
      "execution_count": null,
      "outputs": [
        {
          "output_type": "stream",
          "name": "stdout",
          "text": [
            "กรุณากรอกอุณหภูมิc :36\n",
            "F = 96.8 °F\n"
          ]
        }
      ]
    },
    {
      "cell_type": "code",
      "source": [
        "#Work1_8\n",
        "\n",
        "amout =int(input(\"กรุณากรอกจำนวนเงินที่ลงทุนเริ่มแรก :\"))\n",
        "rate =int (input(\"กรุณากรอกอัตราดอกเบี้ย :\"))\n",
        "period =int(input(\"กรุณากรอกช่วงระยะเวลาที่ลงทุน :\"))\n",
        "fv=amout*(1+rate)**period\n",
        "\n",
        "print (\"fv =\",fv ,\"bath\")"
      ],
      "metadata": {
        "colab": {
          "base_uri": "https://localhost:8080/"
        },
        "id": "OP-uOLYHFjBJ",
        "outputId": "c9856853-70da-4a10-daee-c1527fb47f49"
      },
      "execution_count": null,
      "outputs": [
        {
          "output_type": "stream",
          "name": "stdout",
          "text": [
            "กรุณากรอกจำนวนเงินที่ลงทุนเริ่มแรก :2000\n",
            "กรุณากรอกอัตราดอกเบี้ย :50\n",
            "กรุณากรอกช่วงระยะเวลาที่ลงทุน :5\n",
            "fv = 690050502000 bath\n"
          ]
        }
      ]
    },
    {
      "cell_type": "code",
      "source": [
        "#Work1_9\n",
        "\n",
        "stundentID =(input(\"กรุณากรอกรหัสประจำตัวนักเรียน :\"))\n",
        "stundentname =(input(\"กรุณากรอกชื่อนักเรียน :\"))\n",
        "collectpoints =int(input(\"กรุณากรอกคะแนนเก็บระหว่างเรียน :\"))\n",
        "testpointsmidtrem =int(input(\"กรุณากรอกคะแนนสอบกลางภาค :\"))\n",
        "testpointsfinal =int(input(\"กรุณากรอกคะแนนสอบปลายภาค :\"))\n",
        "\n",
        "fullpoint =collectpoints+testpointsmidtrem+testpointsfinal\n",
        "\n",
        "print(\"fullpoint =\",fullpoint ,\"คะแนน\")"
      ],
      "metadata": {
        "colab": {
          "base_uri": "https://localhost:8080/"
        },
        "id": "NtxGFV_aH3t9",
        "outputId": "da95973e-7cd5-4b54-b29a-f066444d6220"
      },
      "execution_count": null,
      "outputs": [
        {
          "output_type": "stream",
          "name": "stdout",
          "text": [
            "กรุณากรอกรหัสประจำตัวนักเรียน :42096\n",
            "กรุณากรอกชื่อนักเรียน :Rattanawadee Petpeng\n",
            "กรุณากรอกคะแนนเก็บระหว่างเรียน :60\n",
            "กรุณากรอกคะแนนสอบกลางภาค :20\n",
            "กรุณากรอกคะแนนสอบปลายภาค :20\n",
            "fullpoint = 100 คะแนน\n"
          ]
        }
      ]
    },
    {
      "cell_type": "code",
      "source": [
        "#Work1_10\n",
        "\n",
        "User =(input(\"กรุณากรอกชื่อผู้ใช้ :\"))\n",
        "waterused =float(input(\"กรุณากรอกการใช้น้ำ:\"))\n",
        "waterbill =waterused*20\n",
        "\n",
        "print(User,\"จำนวนเงินที่ต้องจ่าย =\",waterbill,\"bath\")"
      ],
      "metadata": {
        "colab": {
          "base_uri": "https://localhost:8080/"
        },
        "id": "mQlk7TfTVd-l",
        "outputId": "559019d9-5b00-4ee6-e3cc-451c9b6d12b5"
      },
      "execution_count": null,
      "outputs": [
        {
          "output_type": "stream",
          "name": "stdout",
          "text": [
            "กรุณากรอกชื่อผู้ใช้ :Rattanawadee Petpeng\n",
            "กรุณากรอกการใช้น้ำ:30\n",
            "Rattanawadee Petpeng จำนวนเงินที่ต้องจ่าย = 600.0 bath\n"
          ]
        }
      ]
    }
  ]
}